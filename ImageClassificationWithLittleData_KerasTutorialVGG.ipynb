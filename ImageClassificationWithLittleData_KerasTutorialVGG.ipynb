{
 "cells": [
  {
   "cell_type": "markdown",
   "metadata": {},
   "source": [
    "## A Keras Tutorial on Image Classification With Little Data"
   ]
  },
  {
   "cell_type": "markdown",
   "metadata": {},
   "source": [
    "Objective: To be able to develop a model for distinguishing cats and dogs using transfer of learning"
   ]
  },
  {
   "cell_type": "markdown",
   "metadata": {},
   "source": [
    "Source: \"Building powerful image classification models using very little data\" from blog.keras.io."
   ]
  },
  {
   "cell_type": "markdown",
   "metadata": {},
   "source": [
    "Step 1: Download data at: https://www.kaggle.com/c/dogs-vs-cats/data"
   ]
  },
  {
   "cell_type": "markdown",
   "metadata": {},
   "source": [
    "Step 2: Setup overview\n",
    "- created a data/ folder\n",
    "- created train/ and validation/ subfolders inside data/\n",
    "- created cats/ and dogs/ subfolders inside train/ and validation/\n",
    "- put the cat pictures index 0-999 in data/train/cats\n",
    "- put the cat pictures index 1000-1400 in data/validation/cats\n",
    "- put the dogs pictures index 0-999 in data/train/dogs\n",
    "- put the dog pictures index 1000-1400 in data/validation/dogs"
   ]
  },
  {
   "cell_type": "markdown",
   "metadata": {},
   "source": [
    "Step 3: Organize imports"
   ]
  },
  {
   "cell_type": "code",
   "execution_count": 3,
   "metadata": {},
   "outputs": [],
   "source": [
    "from keras.preprocessing.image import ImageDataGenerator\n",
    "from keras.models import Sequential\n",
    "from keras.layers import Dropout, Flatten, Dense\n",
    "from keras import applications\n",
    "from keras import backend as K\n",
    "import numpy as np\n",
    "\n",
    "import matplotlib.pyplot as plt\n",
    "%matplotlib inline"
   ]
  },
  {
   "cell_type": "markdown",
   "metadata": {},
   "source": [
    "Step 4: Set constants and path "
   ]
  },
  {
   "cell_type": "code",
   "execution_count": 2,
   "metadata": {
    "collapsed": true
   },
   "outputs": [],
   "source": [
    "img_width, img_height = 150, 150\n",
    "\n",
    "top_model_weights_path = 'bottleneck_fc_model.h5'\n",
    "train_data_dir = 'data/train'\n",
    "validation_data_dir = 'data/validation'\n",
    "nb_train_samples = 2000\n",
    "nb_validation_samples = 800\n",
    "epochs = 50\n",
    "batch_size = 16"
   ]
  },
  {
   "cell_type": "markdown",
   "metadata": {},
   "source": [
    "Step 5: Manage channel ordering"
   ]
  },
  {
   "cell_type": "code",
   "execution_count": 4,
   "metadata": {
    "collapsed": true
   },
   "outputs": [],
   "source": [
    "if K.image_data_format() == 'channels_first':\n",
    "    input_shape = (3, img_width, img_height)\n",
    "else:\n",
    "    input_shape = (img_width, img_height, 3)"
   ]
  },
  {
   "cell_type": "markdown",
   "metadata": {},
   "source": [
    "Step 6: Build the model"
   ]
  },
  {
   "cell_type": "code",
   "execution_count": 6,
   "metadata": {},
   "outputs": [
    {
     "name": "stdout",
     "output_type": "stream",
     "text": [
      "_________________________________________________________________\n",
      "Layer (type)                 Output Shape              Param #   \n",
      "=================================================================\n",
      "input_1 (InputLayer)         (None, None, None, 3)     0         \n",
      "_________________________________________________________________\n",
      "block1_conv1 (Conv2D)        (None, None, None, 64)    1792      \n",
      "_________________________________________________________________\n",
      "block1_conv2 (Conv2D)        (None, None, None, 64)    36928     \n",
      "_________________________________________________________________\n",
      "block1_pool (MaxPooling2D)   (None, None, None, 64)    0         \n",
      "_________________________________________________________________\n",
      "block2_conv1 (Conv2D)        (None, None, None, 128)   73856     \n",
      "_________________________________________________________________\n",
      "block2_conv2 (Conv2D)        (None, None, None, 128)   147584    \n",
      "_________________________________________________________________\n",
      "block2_pool (MaxPooling2D)   (None, None, None, 128)   0         \n",
      "_________________________________________________________________\n",
      "block3_conv1 (Conv2D)        (None, None, None, 256)   295168    \n",
      "_________________________________________________________________\n",
      "block3_conv2 (Conv2D)        (None, None, None, 256)   590080    \n",
      "_________________________________________________________________\n",
      "block3_conv3 (Conv2D)        (None, None, None, 256)   590080    \n",
      "_________________________________________________________________\n",
      "block3_pool (MaxPooling2D)   (None, None, None, 256)   0         \n",
      "_________________________________________________________________\n",
      "block4_conv1 (Conv2D)        (None, None, None, 512)   1180160   \n",
      "_________________________________________________________________\n",
      "block4_conv2 (Conv2D)        (None, None, None, 512)   2359808   \n",
      "_________________________________________________________________\n",
      "block4_conv3 (Conv2D)        (None, None, None, 512)   2359808   \n",
      "_________________________________________________________________\n",
      "block4_pool (MaxPooling2D)   (None, None, None, 512)   0         \n",
      "_________________________________________________________________\n",
      "block5_conv1 (Conv2D)        (None, None, None, 512)   2359808   \n",
      "_________________________________________________________________\n",
      "block5_conv2 (Conv2D)        (None, None, None, 512)   2359808   \n",
      "_________________________________________________________________\n",
      "block5_conv3 (Conv2D)        (None, None, None, 512)   2359808   \n",
      "_________________________________________________________________\n",
      "block5_pool (MaxPooling2D)   (None, None, None, 512)   0         \n",
      "=================================================================\n",
      "Total params: 14,714,688\n",
      "Trainable params: 14,714,688\n",
      "Non-trainable params: 0\n",
      "_________________________________________________________________\n"
     ]
    }
   ],
   "source": [
    "model = applications.VGG16(include_top=False, weights='imagenet')\n",
    "model.summary()"
   ]
  },
  {
   "cell_type": "markdown",
   "metadata": {},
   "source": [
    "Step 7: Define Image Data Generator and save features"
   ]
  },
  {
   "cell_type": "code",
   "execution_count": 9,
   "metadata": {},
   "outputs": [
    {
     "name": "stdout",
     "output_type": "stream",
     "text": [
      "Found 2000 images belonging to 2 classes.\n",
      "Found 802 images belonging to 2 classes.\n"
     ]
    }
   ],
   "source": [
    "datagen = ImageDataGenerator(rescale=1. / 255)\n",
    "    \n",
    "generator = datagen.flow_from_directory(\n",
    "        train_data_dir,\n",
    "        target_size=(img_width, img_height),\n",
    "        batch_size=batch_size,\n",
    "        class_mode=None,\n",
    "        shuffle=False)\n",
    "\n",
    "bottleneck_features_train = model.predict_generator(\n",
    "        generator, nb_train_samples // batch_size)\n",
    "np.save(open('bottleneck_features_train.npy', 'wb'),\n",
    "            bottleneck_features_train)\n",
    "\n",
    "generator = datagen.flow_from_directory(\n",
    "        validation_data_dir,\n",
    "        target_size=(img_width, img_height),\n",
    "        batch_size=batch_size,\n",
    "        class_mode=None,\n",
    "        shuffle=False)\n",
    "\n",
    "bottleneck_features_validation = model.predict_generator(\n",
    "        generator, nb_validation_samples // batch_size)\n",
    "np.save(open('bottleneck_features_validation.npy', 'wb'), bottleneck_features_validation)"
   ]
  },
  {
   "cell_type": "markdown",
   "metadata": {},
   "source": [
    "Step 8: Train"
   ]
  },
  {
   "cell_type": "code",
   "execution_count": 11,
   "metadata": {},
   "outputs": [],
   "source": [
    "train_data = np.load(open('bottleneck_features_train.npy','rb'))\n",
    "train_labels = np.array([0] * (nb_train_samples // 2) + [1] * (nb_train_samples // 2))\n",
    "\n",
    "validation_data = np.load(open('bottleneck_features_validation.npy','rb'))\n",
    "validation_labels = np.array([0] * (nb_validation_samples // 2) + [1] * (nb_validation_samples // 2))"
   ]
  },
  {
   "cell_type": "code",
   "execution_count": 20,
   "metadata": {},
   "outputs": [
    {
     "name": "stdout",
     "output_type": "stream",
     "text": [
      "_________________________________________________________________\n",
      "Layer (type)                 Output Shape              Param #   \n",
      "=================================================================\n",
      "flatten_6 (Flatten)          (None, 8192)              0         \n",
      "_________________________________________________________________\n",
      "dense_11 (Dense)             (None, 256)               2097408   \n",
      "_________________________________________________________________\n",
      "dropout_6 (Dropout)          (None, 256)               0         \n",
      "_________________________________________________________________\n",
      "dense_12 (Dense)             (None, 1)                 257       \n",
      "=================================================================\n",
      "Total params: 2,097,665\n",
      "Trainable params: 2,097,665\n",
      "Non-trainable params: 0\n",
      "_________________________________________________________________\n"
     ]
    }
   ],
   "source": [
    "model = Sequential()\n",
    "model.add(Flatten(input_shape=train_data.shape[1:]))\n",
    "model.add(Dense(256, activation='relu'))\n",
    "model.add(Dropout(0.5))\n",
    "model.add(Dense(1, activation='sigmoid'))\n",
    "model.summary()\n",
    "\n",
    "model.compile(optimizer='adam', loss='binary_crossentropy', metrics=['accuracy'])"
   ]
  },
  {
   "cell_type": "code",
   "execution_count": 21,
   "metadata": {
    "scrolled": true
   },
   "outputs": [
    {
     "name": "stdout",
     "output_type": "stream",
     "text": [
      "Train on 2000 samples, validate on 800 samples\n",
      "Epoch 1/50\n",
      "2000/2000 [==============================] - 0s - loss: 0.4358 - acc: 0.8090 - val_loss: 0.3306 - val_acc: 0.8500\n",
      "Epoch 2/50\n",
      "2000/2000 [==============================] - 0s - loss: 0.2662 - acc: 0.8800 - val_loss: 0.2878 - val_acc: 0.8888\n",
      "Epoch 3/50\n",
      "2000/2000 [==============================] - 0s - loss: 0.2077 - acc: 0.9140 - val_loss: 0.2773 - val_acc: 0.8888\n",
      "Epoch 4/50\n",
      "2000/2000 [==============================] - 0s - loss: 0.1801 - acc: 0.9280 - val_loss: 0.2431 - val_acc: 0.9012\n",
      "Epoch 5/50\n",
      "2000/2000 [==============================] - 0s - loss: 0.1488 - acc: 0.9450 - val_loss: 0.2446 - val_acc: 0.9025\n",
      "Epoch 6/50\n",
      "2000/2000 [==============================] - 0s - loss: 0.1393 - acc: 0.9465 - val_loss: 0.2814 - val_acc: 0.8975\n",
      "Epoch 7/50\n",
      "2000/2000 [==============================] - 0s - loss: 0.1077 - acc: 0.9565 - val_loss: 0.3106 - val_acc: 0.8900\n",
      "Epoch 8/50\n",
      "2000/2000 [==============================] - 0s - loss: 0.0765 - acc: 0.9730 - val_loss: 0.2872 - val_acc: 0.9000\n",
      "Epoch 9/50\n",
      "2000/2000 [==============================] - 0s - loss: 0.0665 - acc: 0.9775 - val_loss: 0.3136 - val_acc: 0.8875\n",
      "Epoch 10/50\n",
      "2000/2000 [==============================] - 0s - loss: 0.0720 - acc: 0.9720 - val_loss: 0.3013 - val_acc: 0.9000\n",
      "Epoch 11/50\n",
      "2000/2000 [==============================] - 0s - loss: 0.0697 - acc: 0.9740 - val_loss: 0.4359 - val_acc: 0.8700\n",
      "Epoch 12/50\n",
      "2000/2000 [==============================] - 0s - loss: 0.0585 - acc: 0.9785 - val_loss: 0.3115 - val_acc: 0.9025\n",
      "Epoch 13/50\n",
      "2000/2000 [==============================] - 0s - loss: 0.0386 - acc: 0.9875 - val_loss: 0.4747 - val_acc: 0.8762\n",
      "Epoch 14/50\n",
      "2000/2000 [==============================] - 0s - loss: 0.0571 - acc: 0.9770 - val_loss: 0.3429 - val_acc: 0.8950\n",
      "Epoch 15/50\n",
      "2000/2000 [==============================] - 0s - loss: 0.0293 - acc: 0.9925 - val_loss: 0.3814 - val_acc: 0.9075\n",
      "Epoch 16/50\n",
      "2000/2000 [==============================] - 0s - loss: 0.0227 - acc: 0.9920 - val_loss: 0.3657 - val_acc: 0.9062\n",
      "Epoch 17/50\n",
      "2000/2000 [==============================] - 0s - loss: 0.0308 - acc: 0.9910 - val_loss: 0.4062 - val_acc: 0.8975\n",
      "Epoch 18/50\n",
      "2000/2000 [==============================] - 0s - loss: 0.0142 - acc: 0.9980 - val_loss: 0.4110 - val_acc: 0.9038\n",
      "Epoch 19/50\n",
      "2000/2000 [==============================] - 0s - loss: 0.0355 - acc: 0.9885 - val_loss: 0.4744 - val_acc: 0.8712\n",
      "Epoch 20/50\n",
      "2000/2000 [==============================] - 0s - loss: 0.0574 - acc: 0.9765 - val_loss: 0.3826 - val_acc: 0.8975\n",
      "Epoch 21/50\n",
      "2000/2000 [==============================] - 0s - loss: 0.0352 - acc: 0.9885 - val_loss: 0.4523 - val_acc: 0.8950\n",
      "Epoch 22/50\n",
      "2000/2000 [==============================] - 0s - loss: 0.0424 - acc: 0.9850 - val_loss: 0.4419 - val_acc: 0.8888\n",
      "Epoch 23/50\n",
      "2000/2000 [==============================] - 0s - loss: 0.0371 - acc: 0.9880 - val_loss: 0.4625 - val_acc: 0.8875\n",
      "Epoch 24/50\n",
      "2000/2000 [==============================] - 0s - loss: 0.0156 - acc: 0.9970 - val_loss: 0.5719 - val_acc: 0.8875\n",
      "Epoch 25/50\n",
      "2000/2000 [==============================] - 0s - loss: 0.0167 - acc: 0.9930 - val_loss: 0.4637 - val_acc: 0.9012\n",
      "Epoch 26/50\n",
      "2000/2000 [==============================] - 0s - loss: 0.0279 - acc: 0.9890 - val_loss: 0.4782 - val_acc: 0.9025\n",
      "Epoch 27/50\n",
      "2000/2000 [==============================] - 0s - loss: 0.0377 - acc: 0.9875 - val_loss: 0.4123 - val_acc: 0.8950\n",
      "Epoch 28/50\n",
      "2000/2000 [==============================] - 0s - loss: 0.0210 - acc: 0.9935 - val_loss: 0.5044 - val_acc: 0.9038\n",
      "Epoch 29/50\n",
      "2000/2000 [==============================] - 0s - loss: 0.0192 - acc: 0.9930 - val_loss: 0.5502 - val_acc: 0.8938\n",
      "Epoch 30/50\n",
      "2000/2000 [==============================] - 0s - loss: 0.0265 - acc: 0.9905 - val_loss: 0.6185 - val_acc: 0.8800\n",
      "Epoch 31/50\n",
      "2000/2000 [==============================] - 0s - loss: 0.0304 - acc: 0.9880 - val_loss: 0.4137 - val_acc: 0.8975\n",
      "Epoch 32/50\n",
      "2000/2000 [==============================] - 0s - loss: 0.0273 - acc: 0.9910 - val_loss: 0.5884 - val_acc: 0.8725\n",
      "Epoch 33/50\n",
      "2000/2000 [==============================] - 0s - loss: 0.0135 - acc: 0.9955 - val_loss: 0.4928 - val_acc: 0.9100\n",
      "Epoch 34/50\n",
      "2000/2000 [==============================] - 0s - loss: 0.0136 - acc: 0.9945 - val_loss: 0.4501 - val_acc: 0.9012\n",
      "Epoch 35/50\n",
      "2000/2000 [==============================] - 0s - loss: 0.0111 - acc: 0.9970 - val_loss: 0.5428 - val_acc: 0.9025\n",
      "Epoch 36/50\n",
      "2000/2000 [==============================] - 0s - loss: 0.0132 - acc: 0.9960 - val_loss: 0.7411 - val_acc: 0.8838\n",
      "Epoch 37/50\n",
      "2000/2000 [==============================] - 0s - loss: 0.0226 - acc: 0.9905 - val_loss: 0.5674 - val_acc: 0.8825\n",
      "Epoch 38/50\n",
      "2000/2000 [==============================] - 0s - loss: 0.0122 - acc: 0.9965 - val_loss: 0.6416 - val_acc: 0.8912\n",
      "Epoch 39/50\n",
      "2000/2000 [==============================] - 0s - loss: 0.0493 - acc: 0.9825 - val_loss: 0.4783 - val_acc: 0.8962\n",
      "Epoch 40/50\n",
      "2000/2000 [==============================] - 0s - loss: 0.0315 - acc: 0.9885 - val_loss: 0.4995 - val_acc: 0.8912\n",
      "Epoch 41/50\n",
      "2000/2000 [==============================] - 0s - loss: 0.0244 - acc: 0.9915 - val_loss: 0.6473 - val_acc: 0.8788\n",
      "Epoch 42/50\n",
      "2000/2000 [==============================] - 0s - loss: 0.0197 - acc: 0.9925 - val_loss: 0.4846 - val_acc: 0.8975\n",
      "Epoch 43/50\n",
      "2000/2000 [==============================] - 0s - loss: 0.0244 - acc: 0.9920 - val_loss: 0.4959 - val_acc: 0.8975\n",
      "Epoch 44/50\n",
      "2000/2000 [==============================] - 0s - loss: 0.0162 - acc: 0.9930 - val_loss: 0.6148 - val_acc: 0.8988\n",
      "Epoch 45/50\n",
      "2000/2000 [==============================] - 0s - loss: 0.0283 - acc: 0.9895 - val_loss: 0.5494 - val_acc: 0.8850\n",
      "Epoch 46/50\n",
      "2000/2000 [==============================] - 0s - loss: 0.0212 - acc: 0.9910 - val_loss: 0.5134 - val_acc: 0.8962\n",
      "Epoch 47/50\n",
      "2000/2000 [==============================] - 0s - loss: 0.0085 - acc: 0.9970 - val_loss: 0.6296 - val_acc: 0.8988\n",
      "Epoch 48/50\n",
      "2000/2000 [==============================] - 0s - loss: 0.0658 - acc: 0.9740 - val_loss: 0.4389 - val_acc: 0.9075\n",
      "Epoch 49/50\n",
      "2000/2000 [==============================] - 0s - loss: 0.0171 - acc: 0.9950 - val_loss: 0.5721 - val_acc: 0.9000\n",
      "Epoch 50/50\n",
      "2000/2000 [==============================] - 0s - loss: 0.0117 - acc: 0.9945 - val_loss: 0.5057 - val_acc: 0.9012\n"
     ]
    }
   ],
   "source": [
    "history = model.fit(train_data, train_labels,\n",
    "             epochs=epochs,\n",
    "             batch_size=batch_size,\n",
    "             validation_data=(validation_data, validation_labels))"
   ]
  },
  {
   "cell_type": "markdown",
   "metadata": {},
   "source": [
    "Step 9: Plot the accuracy from history"
   ]
  },
  {
   "cell_type": "code",
   "execution_count": 22,
   "metadata": {},
   "outputs": [
    {
     "name": "stdout",
     "output_type": "stream",
     "text": [
      "dict_keys(['loss', 'acc', 'val_loss', 'val_acc'])\n"
     ]
    },
    {
     "data": {
      "image/png": "[encoded data removed]",
      "text/plain": [
       "<matplotlib.figure.Figure at 0x14563e38198>"
      ]
     },
     "metadata": {},
     "output_type": "display_data"
    }
   ],
   "source": [
    "print(history.history.keys())\n",
    "plt.plot(history.history['acc'])\n",
    "plt.plot(history.history['val_acc'])\n",
    "plt.title('model accuracy')\n",
    "plt.ylabel('accuracy')\n",
    "plt.xlabel('epoch')\n",
    "plt.legend(['train', 'test'], loc='upper left')\n",
    "plt.show()"
   ]
  },
  {
   "cell_type": "raw",
   "metadata": {},
   "source": [
    "- mkc"
   ]
  }
 ],
 "metadata": {
  "kernelspec": {
   "display_name": "Python 3",
   "language": "python",
   "name": "python3"
  },
  "language_info": {
   "codemirror_mode": {
    "name": "ipython",
    "version": 3
   },
   "file_extension": ".py",
   "mimetype": "text/x-python",
   "name": "python",
   "nbconvert_exporter": "python",
   "pygments_lexer": "ipython3",
   "version": "3.5.4"
  }
 },
 "nbformat": 4,
 "nbformat_minor": 2
}
