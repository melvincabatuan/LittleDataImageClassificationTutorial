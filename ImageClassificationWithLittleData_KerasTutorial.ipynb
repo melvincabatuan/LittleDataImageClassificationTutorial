{
 "cells": [
  {
   "cell_type": "markdown",
   "metadata": {},
   "source": [
    "## A Keras Tutorial on Image Classification With Little Data"
   ]
  },
  {
   "cell_type": "markdown",
   "metadata": {},
   "source": [
    "Objective: To be able to develop a model for distinguishing cats and dogs"
   ]
  },
  {
   "cell_type": "markdown",
   "metadata": {},
   "source": [
    "Source: \"Building powerful image classification models using very little data\" from blog.keras.io."
   ]
  },
  {
   "cell_type": "markdown",
   "metadata": {},
   "source": [
    "Step 1: Download data at: https://www.kaggle.com/c/dogs-vs-cats/data"
   ]
  },
  {
   "cell_type": "markdown",
   "metadata": {},
   "source": [
    "Step 2: Setup overview\n",
    "- created a data/ folder\n",
    "- created train/ and validation/ subfolders inside data/\n",
    "- created cats/ and dogs/ subfolders inside train/ and validation/\n",
    "- put the cat pictures index 0-999 in data/train/cats\n",
    "- put the cat pictures index 1000-1400 in data/validation/cats\n",
    "- put the dogs pictures index 12500-13499 in data/train/dogs\n",
    "- put the dog pictures index 13500-13900 in data/validation/dogs"
   ]
  },
  {
   "cell_type": "markdown",
   "metadata": {},
   "source": [
    "Step 3: Organize imports"
   ]
  },
  {
   "cell_type": "code",
   "execution_count": 1,
   "metadata": {},
   "outputs": [
    {
     "name": "stderr",
     "output_type": "stream",
     "text": [
      "Using TensorFlow backend.\n"
     ]
    }
   ],
   "source": [
    "from keras.preprocessing.image import ImageDataGenerator\n",
    "from keras.models import Sequential\n",
    "from keras.layers import Conv2D, MaxPooling2D\n",
    "from keras.layers import Activation, Dropout, Flatten, Dense\n",
    "from keras import backend as K\n",
    "import numpy as np\n",
    "\n",
    "import matplotlib.pyplot as plt\n",
    "%matplotlib inline"
   ]
  },
  {
   "cell_type": "markdown",
   "metadata": {},
   "source": [
    "Step 4: Set constants and path "
   ]
  },
  {
   "cell_type": "code",
   "execution_count": 2,
   "metadata": {},
   "outputs": [],
   "source": [
    "img_width, img_height = 150, 150\n",
    "\n",
    "train_data_dir = 'data/train'\n",
    "validation_data_dir = 'data/validation'\n",
    "nb_train_samples = 2000\n",
    "nb_validation_samples = 800\n",
    "epochs = 50\n",
    "batch_size = 16"
   ]
  },
  {
   "cell_type": "markdown",
   "metadata": {},
   "source": [
    "Step 5: Manage channel ordering"
   ]
  },
  {
   "cell_type": "code",
   "execution_count": 3,
   "metadata": {
    "collapsed": true
   },
   "outputs": [],
   "source": [
    "if K.image_data_format() == 'channels_first':\n",
    "    input_shape = (3, img_width, img_height)\n",
    "else:\n",
    "    input_shape = (img_width, img_height, 3)"
   ]
  },
  {
   "cell_type": "markdown",
   "metadata": {},
   "source": [
    "Step 6: Define the model"
   ]
  },
  {
   "cell_type": "code",
   "execution_count": 5,
   "metadata": {},
   "outputs": [
    {
     "name": "stdout",
     "output_type": "stream",
     "text": [
      "_________________________________________________________________\n",
      "Layer (type)                 Output Shape              Param #   \n",
      "=================================================================\n",
      "conv2d_4 (Conv2D)            (None, 148, 148, 32)      896       \n",
      "_________________________________________________________________\n",
      "activation_6 (Activation)    (None, 148, 148, 32)      0         \n",
      "_________________________________________________________________\n",
      "max_pooling2d_4 (MaxPooling2 (None, 74, 74, 32)        0         \n",
      "_________________________________________________________________\n",
      "conv2d_5 (Conv2D)            (None, 72, 72, 32)        9248      \n",
      "_________________________________________________________________\n",
      "activation_7 (Activation)    (None, 72, 72, 32)        0         \n",
      "_________________________________________________________________\n",
      "max_pooling2d_5 (MaxPooling2 (None, 36, 36, 32)        0         \n",
      "_________________________________________________________________\n",
      "conv2d_6 (Conv2D)            (None, 34, 34, 64)        18496     \n",
      "_________________________________________________________________\n",
      "activation_8 (Activation)    (None, 34, 34, 64)        0         \n",
      "_________________________________________________________________\n",
      "max_pooling2d_6 (MaxPooling2 (None, 17, 17, 64)        0         \n",
      "_________________________________________________________________\n",
      "flatten_2 (Flatten)          (None, 18496)             0         \n",
      "_________________________________________________________________\n",
      "dense_3 (Dense)              (None, 64)                1183808   \n",
      "_________________________________________________________________\n",
      "activation_9 (Activation)    (None, 64)                0         \n",
      "_________________________________________________________________\n",
      "dropout_2 (Dropout)          (None, 64)                0         \n",
      "_________________________________________________________________\n",
      "dense_4 (Dense)              (None, 1)                 65        \n",
      "_________________________________________________________________\n",
      "activation_10 (Activation)   (None, 1)                 0         \n",
      "=================================================================\n",
      "Total params: 1,212,513\n",
      "Trainable params: 1,212,513\n",
      "Non-trainable params: 0\n",
      "_________________________________________________________________\n"
     ]
    }
   ],
   "source": [
    "model = Sequential()\n",
    "model.add(Conv2D(32, (3, 3), input_shape=input_shape))\n",
    "model.add(Activation('relu'))\n",
    "model.add(MaxPooling2D(pool_size=(2, 2)))\n",
    "\n",
    "model.add(Conv2D(32, (3, 3)))\n",
    "model.add(Activation('relu'))\n",
    "model.add(MaxPooling2D(pool_size=(2, 2)))\n",
    "\n",
    "model.add(Conv2D(64, (3, 3)))\n",
    "model.add(Activation('relu'))\n",
    "model.add(MaxPooling2D(pool_size=(2, 2)))\n",
    "\n",
    "model.add(Flatten())\n",
    "model.add(Dense(64))\n",
    "model.add(Activation('relu'))\n",
    "model.add(Dropout(0.5))\n",
    "model.add(Dense(1))\n",
    "model.add(Activation('sigmoid'))\n",
    "model.summary()"
   ]
  },
  {
   "cell_type": "markdown",
   "metadata": {},
   "source": [
    "Step 6: Compile the model"
   ]
  },
  {
   "cell_type": "code",
   "execution_count": 6,
   "metadata": {
    "collapsed": true
   },
   "outputs": [],
   "source": [
    "model.compile(loss='binary_crossentropy',\n",
    "              optimizer='rmsprop',\n",
    "              metrics=['accuracy'])"
   ]
  },
  {
   "cell_type": "markdown",
   "metadata": {},
   "source": [
    "Step 7: Define Image Data Generator for train and test"
   ]
  },
  {
   "cell_type": "code",
   "execution_count": 8,
   "metadata": {},
   "outputs": [
    {
     "name": "stdout",
     "output_type": "stream",
     "text": [
      "Found 2000 images belonging to 2 classes.\n",
      "Found 802 images belonging to 2 classes.\n"
     ]
    }
   ],
   "source": [
    "train_datagen = ImageDataGenerator(\n",
    "    rescale=1. / 255,\n",
    "    shear_range=0.2,\n",
    "    zoom_range=0.2,\n",
    "    horizontal_flip=True)\n",
    "\n",
    "test_datagen = ImageDataGenerator(rescale=1. / 255)\n",
    "\n",
    "train_generator = train_datagen.flow_from_directory(\n",
    "    train_data_dir,\n",
    "    target_size=(img_width, img_height),\n",
    "    batch_size=batch_size,\n",
    "    class_mode='binary')\n",
    "\n",
    "validation_generator = test_datagen.flow_from_directory(\n",
    "    validation_data_dir,\n",
    "    target_size=(img_width, img_height),\n",
    "    batch_size=batch_size,\n",
    "    class_mode='binary')"
   ]
  },
  {
   "cell_type": "markdown",
   "metadata": {},
   "source": [
    "Step 8: Train"
   ]
  },
  {
   "cell_type": "code",
   "execution_count": 11,
   "metadata": {
    "scrolled": true
   },
   "outputs": [
    {
     "name": "stdout",
     "output_type": "stream",
     "text": [
      "Epoch 1/50\n",
      "125/125 [==============================] - 13s - loss: 0.3901 - acc: 0.8465 - val_loss: 0.5646 - val_acc: 0.6756\n",
      "Epoch 2/50\n",
      "125/125 [==============================] - 12s - loss: 0.3951 - acc: 0.8365 - val_loss: 0.5364 - val_acc: 0.7379\n",
      "Epoch 3/50\n",
      "125/125 [==============================] - 12s - loss: 0.3866 - acc: 0.8380 - val_loss: 0.6592 - val_acc: 0.7621\n",
      "Epoch 4/50\n",
      "125/125 [==============================] - 12s - loss: 0.3760 - acc: 0.8345 - val_loss: 0.5647 - val_acc: 0.7150\n",
      "Epoch 5/50\n",
      "125/125 [==============================] - 11s - loss: 0.4309 - acc: 0.8245 - val_loss: 0.5077 - val_acc: 0.7595\n",
      "Epoch 6/50\n",
      "125/125 [==============================] - 12s - loss: 0.3827 - acc: 0.8435 - val_loss: 0.5747 - val_acc: 0.7913\n",
      "Epoch 7/50\n",
      "125/125 [==============================] - 11s - loss: 0.4313 - acc: 0.8220 - val_loss: 0.8847 - val_acc: 0.7595\n",
      "Epoch 8/50\n",
      "125/125 [==============================] - 11s - loss: 0.3869 - acc: 0.8430 - val_loss: 0.4801 - val_acc: 0.7850\n",
      "Epoch 9/50\n",
      "125/125 [==============================] - 11s - loss: 0.4079 - acc: 0.8200 - val_loss: 0.5802 - val_acc: 0.7417\n",
      "Epoch 10/50\n",
      "125/125 [==============================] - 11s - loss: 0.4008 - acc: 0.8290 - val_loss: 0.9261 - val_acc: 0.7557\n",
      "Epoch 11/50\n",
      "125/125 [==============================] - 12s - loss: 0.3884 - acc: 0.8270 - val_loss: 0.7055 - val_acc: 0.7634\n",
      "Epoch 12/50\n",
      "125/125 [==============================] - 11s - loss: 0.4116 - acc: 0.8365 - val_loss: 0.4997 - val_acc: 0.7799\n",
      "Epoch 13/50\n",
      "125/125 [==============================] - 11s - loss: 0.3940 - acc: 0.8425 - val_loss: 0.5346 - val_acc: 0.8015\n",
      "Epoch 14/50\n",
      "125/125 [==============================] - 11s - loss: 0.3919 - acc: 0.8460 - val_loss: 0.5285 - val_acc: 0.8092\n",
      "Epoch 15/50\n",
      "125/125 [==============================] - 12s - loss: 0.3834 - acc: 0.8415 - val_loss: 0.5388 - val_acc: 0.7964\n",
      "Epoch 16/50\n",
      "125/125 [==============================] - 12s - loss: 0.3723 - acc: 0.8435 - val_loss: 0.4938 - val_acc: 0.7977\n",
      "Epoch 17/50\n",
      "125/125 [==============================] - 12s - loss: 0.3743 - acc: 0.8480 - val_loss: 0.6918 - val_acc: 0.7723\n",
      "Epoch 18/50\n",
      "125/125 [==============================] - 12s - loss: 0.4039 - acc: 0.8345 - val_loss: 0.4744 - val_acc: 0.7913\n",
      "Epoch 19/50\n",
      "125/125 [==============================] - 12s - loss: 0.3791 - acc: 0.8555 - val_loss: 0.5435 - val_acc: 0.7812\n",
      "Epoch 20/50\n",
      "125/125 [==============================] - 11s - loss: 0.3856 - acc: 0.8350 - val_loss: 0.5031 - val_acc: 0.7723\n",
      "Epoch 21/50\n",
      "125/125 [==============================] - 12s - loss: 0.4111 - acc: 0.8390 - val_loss: 0.5261 - val_acc: 0.7405\n",
      "Epoch 22/50\n",
      "125/125 [==============================] - 11s - loss: 0.3774 - acc: 0.8425 - val_loss: 0.5223 - val_acc: 0.7786\n",
      "Epoch 23/50\n",
      "125/125 [==============================] - 12s - loss: 0.3913 - acc: 0.8400 - val_loss: 0.5599 - val_acc: 0.8041\n",
      "Epoch 24/50\n",
      "125/125 [==============================] - 12s - loss: 0.3829 - acc: 0.8440 - val_loss: 0.6514 - val_acc: 0.8168\n",
      "Epoch 25/50\n",
      "125/125 [==============================] - 11s - loss: 0.3965 - acc: 0.8365 - val_loss: 0.5637 - val_acc: 0.7939\n",
      "Epoch 26/50\n",
      "125/125 [==============================] - 12s - loss: 0.3928 - acc: 0.8375 - val_loss: 0.5057 - val_acc: 0.7710\n",
      "Epoch 27/50\n",
      "125/125 [==============================] - 12s - loss: 0.3992 - acc: 0.8340 - val_loss: 0.4931 - val_acc: 0.7990\n",
      "Epoch 28/50\n",
      "125/125 [==============================] - 12s - loss: 0.4001 - acc: 0.8370 - val_loss: 0.6067 - val_acc: 0.7939\n",
      "Epoch 29/50\n",
      "125/125 [==============================] - 12s - loss: 0.3811 - acc: 0.8455 - val_loss: 0.5053 - val_acc: 0.8003\n",
      "Epoch 30/50\n",
      "125/125 [==============================] - 12s - loss: 0.3829 - acc: 0.8405 - val_loss: 0.4840 - val_acc: 0.7799\n",
      "Epoch 31/50\n",
      "125/125 [==============================] - 12s - loss: 0.3881 - acc: 0.8475 - val_loss: 0.5546 - val_acc: 0.7799\n",
      "Epoch 32/50\n",
      "125/125 [==============================] - 12s - loss: 0.3767 - acc: 0.8510 - val_loss: 0.5566 - val_acc: 0.7901\n",
      "Epoch 33/50\n",
      "125/125 [==============================] - 12s - loss: 0.3717 - acc: 0.8425 - val_loss: 0.5731 - val_acc: 0.8066\n",
      "Epoch 34/50\n",
      "125/125 [==============================] - 12s - loss: 0.3896 - acc: 0.8375 - val_loss: 0.4956 - val_acc: 0.7977\n",
      "Epoch 35/50\n",
      "125/125 [==============================] - 11s - loss: 0.3985 - acc: 0.8365 - val_loss: 0.5035 - val_acc: 0.7608\n",
      "Epoch 36/50\n",
      "125/125 [==============================] - 12s - loss: 0.3733 - acc: 0.8430 - val_loss: 0.5348 - val_acc: 0.7926\n",
      "Epoch 37/50\n",
      "125/125 [==============================] - 12s - loss: 0.3794 - acc: 0.8270 - val_loss: 0.4949 - val_acc: 0.7735\n",
      "Epoch 38/50\n",
      "125/125 [==============================] - 11s - loss: 0.3830 - acc: 0.8390 - val_loss: 0.5987 - val_acc: 0.7888\n",
      "Epoch 39/50\n",
      "125/125 [==============================] - 11s - loss: 0.3957 - acc: 0.8425 - val_loss: 0.5248 - val_acc: 0.8130\n",
      "Epoch 40/50\n",
      "125/125 [==============================] - 12s - loss: 0.3808 - acc: 0.8410 - val_loss: 0.5187 - val_acc: 0.7634\n",
      "Epoch 41/50\n",
      "125/125 [==============================] - 11s - loss: 0.3741 - acc: 0.8435 - val_loss: 0.5924 - val_acc: 0.8015\n",
      "Epoch 42/50\n",
      "125/125 [==============================] - 12s - loss: 0.3817 - acc: 0.8425 - val_loss: 0.5502 - val_acc: 0.7824\n",
      "Epoch 43/50\n",
      "125/125 [==============================] - 12s - loss: 0.3775 - acc: 0.8385 - val_loss: 0.5800 - val_acc: 0.7710\n",
      "Epoch 44/50\n",
      "125/125 [==============================] - 12s - loss: 0.3770 - acc: 0.8475 - val_loss: 0.7753 - val_acc: 0.7595\n",
      "Epoch 45/50\n",
      "125/125 [==============================] - 12s - loss: 0.3827 - acc: 0.8410 - val_loss: 0.6078 - val_acc: 0.7888\n",
      "Epoch 46/50\n",
      "125/125 [==============================] - 12s - loss: 0.3764 - acc: 0.8425 - val_loss: 0.5217 - val_acc: 0.7875\n",
      "Epoch 47/50\n",
      "125/125 [==============================] - 11s - loss: 0.4025 - acc: 0.8395 - val_loss: 0.5281 - val_acc: 0.7634\n",
      "Epoch 48/50\n",
      "125/125 [==============================] - 12s - loss: 0.3460 - acc: 0.8475 - val_loss: 0.7290 - val_acc: 0.8079\n",
      "Epoch 49/50\n",
      "125/125 [==============================] - 12s - loss: 0.3800 - acc: 0.8475 - val_loss: 0.7074 - val_acc: 0.7964\n",
      "Epoch 50/50\n",
      "125/125 [==============================] - 12s - loss: 0.4052 - acc: 0.8390 - val_loss: 0.5712 - val_acc: 0.7672\n"
     ]
    }
   ],
   "source": [
    "history = model.fit_generator(\n",
    "    train_generator,\n",
    "    steps_per_epoch=nb_train_samples // batch_size,\n",
    "    epochs=epochs,\n",
    "    validation_data=validation_generator,\n",
    "    validation_steps=nb_validation_samples // batch_size)"
   ]
  },
  {
   "cell_type": "markdown",
   "metadata": {},
   "source": [
    "Step 9: Plot the accuracy from history"
   ]
  },
  {
   "cell_type": "code",
   "execution_count": 12,
   "metadata": {},
   "outputs": [
    {
     "name": "stdout",
     "output_type": "stream",
     "text": [
      "dict_keys(['acc', 'loss', 'val_loss', 'val_acc'])\n"
     ]
    },
    {
     "data": {
      "image/png": "[encoded data removed]",
      "text/plain": [
       "<matplotlib.figure.Figure at 0x2a71ef585c0>"
      ]
     },
     "metadata": {},
     "output_type": "display_data"
    }
   ],
   "source": [
    "print(history.history.keys())\n",
    "plt.plot(history.history['acc'])\n",
    "plt.plot(history.history['val_acc'])\n",
    "plt.title('model accuracy')\n",
    "plt.ylabel('accuracy')\n",
    "plt.xlabel('epoch')\n",
    "plt.legend(['train', 'test'], loc='upper left')\n",
    "plt.show()"
   ]
  },
  {
   "cell_type": "markdown",
   "metadata": {},
   "source": [
    "Step 10: Sample prediction"
   ]
  },
  {
   "cell_type": "code",
   "execution_count": 15,
   "metadata": {},
   "outputs": [
    {
     "name": "stdout",
     "output_type": "stream",
     "text": [
      "cat\n"
     ]
    }
   ],
   "source": [
    "from keras.preprocessing import image\n",
    "\n",
    "test_image = image.load_img('cat.jpg', target_size = (img_width, img_height))\n",
    "test_image = image.img_to_array(test_image)\n",
    "test_image = np.expand_dims(test_image, axis = 0)\n",
    "\n",
    "result = model.predict(test_image)\n",
    "train_generator.class_indices\n",
    "if result[0][0] == 1:\n",
    "    prediction = 'dog'\n",
    "else:\n",
    "    prediction = 'cat'\n",
    "print(prediction)"
   ]
  },
  {
   "cell_type": "code",
   "execution_count": 17,
   "metadata": {},
   "outputs": [
    {
     "name": "stdout",
     "output_type": "stream",
     "text": [
      "dog\n"
     ]
    }
   ],
   "source": [
    "test_image = image.load_img('dog.jpg', target_size = (img_width, img_height))\n",
    "test_image = image.img_to_array(test_image)\n",
    "test_image = np.expand_dims(test_image, axis = 0)\n",
    "\n",
    "result = model.predict(test_image)\n",
    "train_generator.class_indices\n",
    "if result[0][0] == 1:\n",
    "    prediction = 'dog'\n",
    "else:\n",
    "    prediction = 'cat'\n",
    "print(prediction)"
   ]
  },
  {
   "cell_type": "raw",
   "metadata": {},
   "source": [
    "- mkc"
   ]
  }
 ],
 "metadata": {
  "kernelspec": {
   "display_name": "Python 3",
   "language": "python",
   "name": "python3"
  },
  "language_info": {
   "codemirror_mode": {
    "name": "ipython",
    "version": 3
   },
   "file_extension": ".py",
   "mimetype": "text/x-python",
   "name": "python",
   "nbconvert_exporter": "python",
   "pygments_lexer": "ipython3",
   "version": "3.5.4"
  }
 },
 "nbformat": 4,
 "nbformat_minor": 2
}
